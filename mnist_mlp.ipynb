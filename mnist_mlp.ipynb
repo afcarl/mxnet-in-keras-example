{
 "cells": [
  {
   "cell_type": "code",
   "execution_count": 1,
   "metadata": {
    "ExecuteTime": {
     "end_time": "2017-08-03T19:05:14.090874Z",
     "start_time": "2017-08-03T19:02:24.528523Z"
    },
    "scrolled": true
   },
   "outputs": [
    {
     "name": "stderr",
     "output_type": "stream",
     "text": [
      "Using MXNet backend.\n"
     ]
    },
    {
     "name": "stdout",
     "output_type": "stream",
     "text": [
      "60000 train samples\n",
      "10000 test samples\n",
      "____________________________________________________________________________________________________\n",
      "Layer (type)                     Output Shape          Param #     Connected to                     \n",
      "====================================================================================================\n",
      "dense_1 (Dense)                  (None, 512)           401920      dense_input_1[0][0]              \n",
      "____________________________________________________________________________________________________\n",
      "activation_1 (Activation)        (None, 512)           0           dense_1[0][0]                    \n",
      "____________________________________________________________________________________________________\n",
      "dropout_1 (Dropout)              (None, 512)           0           activation_1[0][0]               \n",
      "____________________________________________________________________________________________________\n",
      "dense_2 (Dense)                  (None, 512)           262656      dropout_1[0][0]                  \n",
      "____________________________________________________________________________________________________\n",
      "activation_2 (Activation)        (None, 512)           0           dense_2[0][0]                    \n",
      "____________________________________________________________________________________________________\n",
      "dropout_2 (Dropout)              (None, 512)           0           activation_2[0][0]               \n",
      "____________________________________________________________________________________________________\n",
      "dense_3 (Dense)                  (None, 10)            5130        dropout_2[0][0]                  \n",
      "____________________________________________________________________________________________________\n",
      "activation_3 (Activation)        (None, 10)            0           dense_3[0][0]                    \n",
      "====================================================================================================\n",
      "Total params: 669,706\n",
      "Trainable params: 669,706\n",
      "Non-trainable params: 0\n",
      "____________________________________________________________________________________________________\n",
      "Train on 60000 samples, validate on 10000 samples\n",
      "Epoch 1/20\n",
      " 1408/60000 [..............................] - ETA: 8s - loss: 2.3137 - acc: 0.1044"
     ]
    },
    {
     "name": "stderr",
     "output_type": "stream",
     "text": [
      "/usr/local/anaconda3/envs/mxnet-in-keras/lib/python3.5/site-packages/mxnet/module/bucketing_module.py:359: UserWarning: Optimizer created manually outside Module but rescale_grad is not normalized to 1.0/batch_size/num_workers (1.0 vs. 0.0078125). Is this intended?\n",
      "  force_init=force_init)\n"
     ]
    },
    {
     "name": "stdout",
     "output_type": "stream",
     "text": [
      "60000/60000 [==============================] - 9s - loss: 1.2175 - acc: 0.6823 - val_loss: 0.5459 - val_acc: 0.8675\n",
      "Epoch 2/20\n",
      "60000/60000 [==============================] - 9s - loss: 0.5365 - acc: 0.8498 - val_loss: 0.3785 - val_acc: 0.9002\n",
      "Epoch 3/20\n",
      "60000/60000 [==============================] - 9s - loss: 0.4252 - acc: 0.8784 - val_loss: 0.3234 - val_acc: 0.9097\n",
      "Epoch 4/20\n",
      "60000/60000 [==============================] - 9s - loss: 0.3770 - acc: 0.8907 - val_loss: 0.2918 - val_acc: 0.9189\n",
      "Epoch 5/20\n",
      "60000/60000 [==============================] - 8s - loss: 0.3424 - acc: 0.9015 - val_loss: 0.2701 - val_acc: 0.9242\n",
      "Epoch 6/20\n",
      "60000/60000 [==============================] - 9s - loss: 0.3157 - acc: 0.9093 - val_loss: 0.2536 - val_acc: 0.9302\n",
      "Epoch 7/20\n",
      "60000/60000 [==============================] - 9s - loss: 0.2971 - acc: 0.9141 - val_loss: 0.2378 - val_acc: 0.9333\n",
      "Epoch 8/20\n",
      "60000/60000 [==============================] - 7s - loss: 0.2795 - acc: 0.9201 - val_loss: 0.2250 - val_acc: 0.9356\n",
      "Epoch 9/20\n",
      "60000/60000 [==============================] - 7s - loss: 0.2638 - acc: 0.9231 - val_loss: 0.2157 - val_acc: 0.9379\n",
      "Epoch 10/20\n",
      "60000/60000 [==============================] - 10s - loss: 0.2525 - acc: 0.9274 - val_loss: 0.2057 - val_acc: 0.9404\n",
      "Epoch 11/20\n",
      "60000/60000 [==============================] - 9s - loss: 0.2398 - acc: 0.9302 - val_loss: 0.1966 - val_acc: 0.9425\n",
      "Epoch 12/20\n",
      "60000/60000 [==============================] - 7s - loss: 0.2301 - acc: 0.9336 - val_loss: 0.1886 - val_acc: 0.9459\n",
      "Epoch 13/20\n",
      "60000/60000 [==============================] - 7s - loss: 0.2199 - acc: 0.9368 - val_loss: 0.1807 - val_acc: 0.9481\n",
      "Epoch 14/20\n",
      "60000/60000 [==============================] - 7s - loss: 0.2130 - acc: 0.9388 - val_loss: 0.1746 - val_acc: 0.9496\n",
      "Epoch 15/20\n",
      "60000/60000 [==============================] - 7s - loss: 0.2053 - acc: 0.9406 - val_loss: 0.1683 - val_acc: 0.9524\n",
      "Epoch 16/20\n",
      "60000/60000 [==============================] - 7s - loss: 0.1958 - acc: 0.9436 - val_loss: 0.1623 - val_acc: 0.9537\n",
      "Epoch 17/20\n",
      "60000/60000 [==============================] - 6s - loss: 0.1903 - acc: 0.9453 - val_loss: 0.1569 - val_acc: 0.9544\n",
      "Epoch 18/20\n",
      "60000/60000 [==============================] - 7s - loss: 0.1815 - acc: 0.9479 - val_loss: 0.1535 - val_acc: 0.9555\n",
      "Epoch 19/20\n",
      "60000/60000 [==============================] - 7s - loss: 0.1787 - acc: 0.9481 - val_loss: 0.1480 - val_acc: 0.9576\n",
      "Epoch 20/20\n",
      "60000/60000 [==============================] - 7s - loss: 0.1713 - acc: 0.9503 - val_loss: 0.1433 - val_acc: 0.9589\n",
      "Test score: 0.143257631947\n",
      "Test accuracy: 0.9589\n"
     ]
    }
   ],
   "source": [
    "'''Trains a simple deep NN on the MNIST dataset.\n",
    "'''\n",
    "\n",
    "from __future__ import print_function\n",
    "import numpy as np\n",
    "np.random.seed(1337)  # for reproducibility\n",
    "\n",
    "from keras.datasets import mnist\n",
    "from keras.models import Sequential\n",
    "from keras.layers.core import Dense, Dropout, Activation\n",
    "from keras.optimizers import SGD\n",
    "from keras.utils import np_utils\n",
    "\n",
    "\n",
    "batch_size = 128\n",
    "nb_classes = 10\n",
    "nb_epoch = 20\n",
    "\n",
    "# the data, shuffled and split between train and test sets\n",
    "(X_train, y_train), (X_test, y_test) = mnist.load_data()\n",
    "\n",
    "X_train = X_train.reshape(60000, 784)\n",
    "X_test = X_test.reshape(10000, 784)\n",
    "X_train = X_train.astype('float32')\n",
    "X_test = X_test.astype('float32')\n",
    "X_train /= 255\n",
    "X_test /= 255\n",
    "print(X_train.shape[0], 'train samples')\n",
    "print(X_test.shape[0], 'test samples')\n",
    "\n",
    "# convert class vectors to binary class matrices\n",
    "Y_train = np_utils.to_categorical(y_train, nb_classes)\n",
    "Y_test = np_utils.to_categorical(y_test, nb_classes)\n",
    "\n",
    "model = Sequential()\n",
    "model.add(Dense(512, input_shape=(784,)))\n",
    "model.add(Activation('relu'))\n",
    "model.add(Dropout(0.2))\n",
    "model.add(Dense(512))\n",
    "model.add(Activation('relu'))\n",
    "model.add(Dropout(0.2))\n",
    "model.add(Dense(10))\n",
    "model.add(Activation('softmax'))\n",
    "\n",
    "model.summary()\n",
    "\n",
    "model.compile(loss='categorical_crossentropy',\n",
    "              optimizer=SGD(),\n",
    "              metrics=['accuracy'])\n",
    "\n",
    "history = model.fit(X_train, Y_train,\n",
    "                    batch_size=batch_size, nb_epoch=nb_epoch,\n",
    "                    verbose=1, validation_data=(X_test, Y_test))\n",
    "score = model.evaluate(X_test, Y_test, verbose=0)\n",
    "print('Test score:', score[0])\n",
    "print('Test accuracy:', score[1])"
   ]
  },
  {
   "cell_type": "code",
   "execution_count": null,
   "metadata": {
    "collapsed": true
   },
   "outputs": [],
   "source": []
  }
 ],
 "metadata": {
  "kernelspec": {
   "display_name": "Python 3",
   "language": "python",
   "name": "python3"
  },
  "language_info": {
   "codemirror_mode": {
    "name": "ipython",
    "version": 3
   },
   "file_extension": ".py",
   "mimetype": "text/x-python",
   "name": "python",
   "nbconvert_exporter": "python",
   "pygments_lexer": "ipython3",
   "version": "3.5.3"
  },
  "latex_envs": {
   "LaTeX_envs_menu_present": true,
   "autocomplete": true,
   "bibliofile": "biblio.bib",
   "cite_by": "apalike",
   "current_citInitial": 1,
   "eqLabelWithNumbers": true,
   "eqNumInitial": 1,
   "hotkeys": {
    "equation": "Ctrl-E",
    "itemize": "Ctrl-I"
   },
   "labels_anchors": false,
   "latex_user_defs": false,
   "report_style_numbering": false,
   "user_envs_cfg": false
  },
  "toc": {
   "colors": {
    "hover_highlight": "#DAA520",
    "navigate_num": "#000000",
    "navigate_text": "#333333",
    "running_highlight": "#FF0000",
    "selected_highlight": "#FFD700",
    "sidebar_border": "#EEEEEE",
    "wrapper_background": "#FFFFFF"
   },
   "moveMenuLeft": true,
   "nav_menu": {
    "height": "12px",
    "width": "252px"
   },
   "navigate_menu": true,
   "number_sections": true,
   "sideBar": true,
   "threshold": 4,
   "toc_cell": false,
   "toc_section_display": "block",
   "toc_window_display": false,
   "widenNotebook": false
  }
 },
 "nbformat": 4,
 "nbformat_minor": 2
}
